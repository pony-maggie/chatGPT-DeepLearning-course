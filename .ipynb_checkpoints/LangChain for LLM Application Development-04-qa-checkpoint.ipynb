{
 "cells": [
  {
   "cell_type": "markdown",
   "id": "6709af7e",
   "metadata": {},
   "source": [
    "## LangChain: Q&A over Documents\n",
    "\n",
    "An example might be a tool that would allow you to query a product catalog for items of interest."
   ]
  },
  {
   "cell_type": "code",
   "execution_count": 1,
   "id": "86ffecad",
   "metadata": {},
   "outputs": [],
   "source": [
    "import os\n",
    "\n",
    "from dotenv import load_dotenv, find_dotenv\n",
    "_ = load_dotenv(find_dotenv()) # read local .env file"
   ]
  },
  {
   "cell_type": "code",
   "execution_count": 2,
   "id": "29b39db9",
   "metadata": {},
   "outputs": [],
   "source": [
    "from langchain.chains import RetrievalQA\n",
    "from langchain.chat_models import ChatOpenAI\n",
    "from langchain.document_loaders import CSVLoader\n",
    "from langchain.vectorstores import DocArrayInMemorySearch\n",
    "from IPython.display import display, Markdown"
   ]
  },
  {
   "cell_type": "code",
   "execution_count": 6,
   "id": "a088ea3a",
   "metadata": {},
   "outputs": [],
   "source": [
    "file = 'OutdoorClothingCatalog_100.csv'\n",
    "loader = CSVLoader(file_path=file)"
   ]
  },
  {
   "cell_type": "code",
   "execution_count": 7,
   "id": "f50197d2",
   "metadata": {},
   "outputs": [],
   "source": [
    "from langchain.indexes import VectorstoreIndexCreator"
   ]
  },
  {
   "cell_type": "code",
   "execution_count": 5,
   "id": "013b55ad",
   "metadata": {},
   "outputs": [],
   "source": [
    "# pip install docarray"
   ]
  },
  {
   "cell_type": "code",
   "execution_count": 8,
   "id": "7854be2a",
   "metadata": {},
   "outputs": [],
   "source": [
    "index = VectorstoreIndexCreator(\n",
    "    vectorstore_cls=DocArrayInMemorySearch\n",
    ").from_loaders([loader])"
   ]
  },
  {
   "cell_type": "code",
   "execution_count": 9,
   "id": "1eecfb13",
   "metadata": {},
   "outputs": [],
   "source": [
    "query =\"Please list all your shirts with sun protection \\\n",
    "in a table in markdown and summarize each one.\""
   ]
  },
  {
   "cell_type": "code",
   "execution_count": 10,
   "id": "447e9b3e",
   "metadata": {},
   "outputs": [],
   "source": [
    "response = index.query(query)"
   ]
  },
  {
   "cell_type": "code",
   "execution_count": 11,
   "id": "a4e4dea2",
   "metadata": {},
   "outputs": [
    {
     "data": {
      "text/markdown": [
       " \n",
       "\n",
       "| Name | Description | Sun Protection |\n",
       "|------|-------------|---------------|\n",
       "| Women's Tropical Plaid Shirt | Our lightest hot-weather shirt lets you beat the heat with a flattering fit. | UPF 50+ rated – the highest rated sun protection possible. |\n",
       "| Performance Plus Woven Shirt | Perfect for trail or travel, this breathable summer shirt has the look and feel of cotton - but is packed with performance. | UPF 40+ rated to block the sun's UV rays. |\n",
       "| Tropicview Baseball Cap | This sun-blocking baseball hat features a rear flap for extra coverage. | UPF 50+ rated, the highest possible. |"
      ],
      "text/plain": [
       "<IPython.core.display.Markdown object>"
      ]
     },
     "metadata": {},
     "output_type": "display_data"
    }
   ],
   "source": [
    "display(Markdown(response))"
   ]
  },
  {
   "cell_type": "code",
   "execution_count": 12,
   "id": "f6cbf8b8",
   "metadata": {},
   "outputs": [],
   "source": [
    "loader = CSVLoader(file_path=file)"
   ]
  },
  {
   "cell_type": "code",
   "execution_count": 13,
   "id": "723c2a20",
   "metadata": {},
   "outputs": [],
   "source": [
    "docs = loader.load()"
   ]
  },
  {
   "cell_type": "code",
   "execution_count": 14,
   "id": "37ca4aac",
   "metadata": {},
   "outputs": [
    {
     "data": {
      "text/plain": [
       "Document(page_content=\": 0\\nname: Women's Campside Oxfords\\ndescription: This ultracomfortable lace-to-toe Oxford boasts a super-soft canvas, thick cushioning, and quality construction for a broken-in feel from the first time you put them on. \\n\\nSize & Fit: Order regular shoe size. For half sizes not offered, order up to next whole size. \\n\\nSpecs: Approx. weight: 1 lb.1 oz. per pair. \\n\\nConstruction: Soft canvas material for a broken-in feel and look. Comfortable EVA innersole with Cleansport NXT® antimicrobial odor control. Vintage hunt, fish and camping motif on innersole. Moderate arch contour of innersole. EVA foam midsole for cushioning and support. Chain-tread-inspired molded rubber outsole with modified chain-tread pattern. Imported. \\n\\nQuestions? Please contact us for any inquiries.\", metadata={'source': 'OutdoorClothingCatalog_100.csv', 'row': 0})"
      ]
     },
     "execution_count": 14,
     "metadata": {},
     "output_type": "execute_result"
    }
   ],
   "source": [
    "docs[0]"
   ]
  },
  {
   "cell_type": "code",
   "execution_count": 15,
   "id": "3c6b2485",
   "metadata": {},
   "outputs": [],
   "source": [
    "from langchain.embeddings import OpenAIEmbeddings\n",
    "embeddings = OpenAIEmbeddings()"
   ]
  },
  {
   "cell_type": "code",
   "execution_count": 16,
   "id": "df469183",
   "metadata": {},
   "outputs": [],
   "source": [
    "embed = embeddings.embed_query(\"Hi my name is Harrison\")"
   ]
  },
  {
   "cell_type": "code",
   "execution_count": 17,
   "id": "340f1304",
   "metadata": {},
   "outputs": [
    {
     "name": "stdout",
     "output_type": "stream",
     "text": [
      "1536\n"
     ]
    }
   ],
   "source": [
    "print(len(embed))"
   ]
  },
  {
   "cell_type": "code",
   "execution_count": 18,
   "id": "a1f13174",
   "metadata": {},
   "outputs": [
    {
     "name": "stdout",
     "output_type": "stream",
     "text": [
      "[-0.02194717898964882, 0.006735079921782017, -0.01816144771873951, -0.03916534036397934, -0.014086442068219185, 0.016840843483805656]\n"
     ]
    }
   ],
   "source": [
    "print(embed[:6])"
   ]
  },
  {
   "cell_type": "code",
   "execution_count": 19,
   "id": "4a659a03",
   "metadata": {},
   "outputs": [],
   "source": [
    "db = DocArrayInMemorySearch.from_documents(\n",
    "    docs, \n",
    "    embeddings\n",
    ")"
   ]
  },
  {
   "cell_type": "code",
   "execution_count": 20,
   "id": "88f1cbbc",
   "metadata": {},
   "outputs": [],
   "source": [
    "query = \"Please suggest a shirt with sunblocking\""
   ]
  },
  {
   "cell_type": "code",
   "execution_count": 21,
   "id": "3fdda84b",
   "metadata": {},
   "outputs": [],
   "source": [
    "docs = db.similarity_search(query)"
   ]
  },
  {
   "cell_type": "code",
   "execution_count": 22,
   "id": "38c95285",
   "metadata": {},
   "outputs": [
    {
     "data": {
      "text/plain": [
       "4"
      ]
     },
     "execution_count": 22,
     "metadata": {},
     "output_type": "execute_result"
    }
   ],
   "source": [
    "len(docs)"
   ]
  },
  {
   "cell_type": "code",
   "execution_count": 23,
   "id": "0660d1a4",
   "metadata": {},
   "outputs": [
    {
     "data": {
      "text/plain": [
       "Document(page_content=\": 87\\nname: Women's Tropical Plaid Shirt\\ndescription: Our lightest hot-weather shirt lets you beat the heat with a flattering fit.\\n\\nSize & Fit\\n- Slightly Fitted: Softly shapes the body.\\n- Falls at hip.\\n\\nFabric & Care\\n- 52% polyester/ 48% nylon.\\n- UPF 50+ rated – the highest rated sun protection possible.\\n\\nAdditional Features\\n- Keeps you cool and comfortable by wicking perspiration away from your skin, then dries in minutes.\\n- Smooth buttons are easy on your hands.\\n- Wrinkle resistant.\\n- Front and back cape venting for ventilation.\\n- Low-profile pockets and side shaping offer a more flattering fit.\\n- Two front pockets, tool tabs and eyewear loop.\\n- Imported.\\n\\nQuestions?\\nContact us for more information.\", metadata={'source': 'OutdoorClothingCatalog_100.csv', 'row': 87})"
      ]
     },
     "execution_count": 23,
     "metadata": {},
     "output_type": "execute_result"
    }
   ],
   "source": [
    "docs[0]"
   ]
  },
  {
   "cell_type": "code",
   "execution_count": 24,
   "id": "f7bc8c70",
   "metadata": {},
   "outputs": [],
   "source": [
    "retriever = db.as_retriever()\n",
    "llm = ChatOpenAI(temperature = 0.0)\n",
    "qdocs = \"\".join([docs[i].page_content for i in range(len(docs))])"
   ]
  },
  {
   "cell_type": "code",
   "execution_count": 25,
   "id": "dfaab2d6",
   "metadata": {},
   "outputs": [
    {
     "data": {
      "text/markdown": [
       "| Shirt Name                      | Description                                                                                                 |\n",
       "|---------------------------------|-------------------------------------------------------------------------------------------------------------|\n",
       "| Women's Tropical Plaid Shirt    | A lightweight, hot-weather shirt with a flattering fit. UPF 50+ rated for sun protection.                     |\n",
       "| Performance Plus Woven Shirt    | Breathable summer shirt with quick-dry fabric. UPF 40+ rated for sun protection.                               |\n",
       "| Tropicview Baseball Cap         | Sun-blocking baseball hat with UPF 50+ rated sun protection. Features a rear flap for extra coverage.         |\n",
       "| Smooth Comfort Check Shirt      | Men's check shirt with wrinkle-free performance and TrueCool® fabric for moisture-wicking and quick drying. |\n",
       "\n",
       "Summary:\n",
       "1. Women's Tropical Plaid Shirt: A lightweight shirt with a flattering fit, UPF 50+ sun protection, and quick-drying fabric.\n",
       "2. Performance Plus Woven Shirt: A breathable summer shirt with quick-dry fabric, UPF 40+ sun protection, and exceptional durability.\n",
       "3. Tropicview Baseball Cap: A sun-blocking baseball hat with UPF 50+ sun protection, rear flap for extra coverage, and moisture-wicking sweatband.\n",
       "4. Smooth Comfort Check Shirt: A men's check shirt with wrinkle-free performance, TrueCool® fabric for moisture-wicking, and a relaxed fit."
      ],
      "text/plain": [
       "<IPython.core.display.Markdown object>"
      ]
     },
     "metadata": {},
     "output_type": "display_data"
    }
   ],
   "source": [
    "response = llm.call_as_llm(f\"{qdocs} Question: Please list all your \\\n",
    "shirts with sun protection in a table in markdown and summarize each one.\") \n",
    "display(Markdown(response))"
   ]
  },
  {
   "cell_type": "code",
   "execution_count": 26,
   "id": "cdeb28f2",
   "metadata": {},
   "outputs": [],
   "source": [
    "qa_stuff = RetrievalQA.from_chain_type(\n",
    "    llm=llm, \n",
    "    chain_type=\"stuff\", \n",
    "    retriever=retriever, \n",
    "    verbose=True\n",
    ")"
   ]
  },
  {
   "cell_type": "code",
   "execution_count": 27,
   "id": "891813c9",
   "metadata": {},
   "outputs": [],
   "source": [
    "query =  \"Please list all your shirts with sun protection in a table \\\n",
    "in markdown and summarize each one.\""
   ]
  },
  {
   "cell_type": "code",
   "execution_count": 28,
   "id": "0106d5c4",
   "metadata": {},
   "outputs": [
    {
     "name": "stdout",
     "output_type": "stream",
     "text": [
      "\n",
      "\n",
      "\u001b[1m> Entering new  chain...\u001b[0m\n",
      "\n",
      "\u001b[1m> Finished chain.\u001b[0m\n"
     ]
    }
   ],
   "source": [
    "response = qa_stuff.run(query)"
   ]
  },
  {
   "cell_type": "code",
   "execution_count": 29,
   "id": "3ae399ce",
   "metadata": {},
   "outputs": [
    {
     "data": {
      "text/markdown": [
       "| Shirt Name                      | Description                                                                                                 |\n",
       "|---------------------------------|-------------------------------------------------------------------------------------------------------------|\n",
       "| Women's Tropical Plaid Shirt    | Our lightest hot-weather shirt with a flattering fit. UPF 50+ rated sun protection. Wicks away perspiration. |\n",
       "| Performance Plus Woven Shirt    | Breathable summer shirt with quick-dry fabric. UPF 40+ rated sun protection. Wicks away moisture.            |\n",
       "| Tropicview Baseball Cap         | Sun-blocking baseball hat with UPF 50+ rated sun protection. Rear flap for extra coverage.                    |\n",
       "| Smooth Comfort Check Shirt      | Men's check shirt with TrueCool® fabric that wicks away moisture. Wrinkle-free performance.                    |\n",
       "\n",
       "- Women's Tropical Plaid Shirt: This shirt is lightweight and designed for hot weather. It has a flattering fit and offers UPF 50+ rated sun protection. It also wicks away perspiration and dries quickly.\n",
       "\n",
       "- Performance Plus Woven Shirt: This breathable summer shirt has the look and feel of cotton but is made with quick-dry fabric. It offers UPF 40+ rated sun protection and wicks away moisture. It is also abrasion-resistant for durability.\n",
       "\n",
       "- Tropicview Baseball Cap: This sun-blocking baseball hat provides UPF 50+ rated sun protection. It has a rear flap for extra coverage and can be tucked away when not needed. The elastic cord allows for comfortable adjustment, and the coolmax sweatband wicks away moisture.\n",
       "\n",
       "- Smooth Comfort Check Shirt: This men's check shirt is slightly fitted and made with TrueCool® fabric that wicks away moisture. It has wrinkle-free performance and offers a button-down collar and a single patch pocket."
      ],
      "text/plain": [
       "<IPython.core.display.Markdown object>"
      ]
     },
     "metadata": {},
     "output_type": "display_data"
    }
   ],
   "source": [
    "display(Markdown(response))"
   ]
  },
  {
   "cell_type": "code",
   "execution_count": 30,
   "id": "811f57cd",
   "metadata": {},
   "outputs": [],
   "source": [
    "response = index.query(query, llm=llm)"
   ]
  },
  {
   "cell_type": "code",
   "execution_count": null,
   "id": "b2d7e8b2",
   "metadata": {},
   "outputs": [],
   "source": [
    "index = VectorstoreIndexCreator(\n",
    "    vectorstore_cls=DocArrayInMemorySearch,\n",
    "    embedding=embeddings,\n",
    ").from_loaders([loader])"
   ]
  }
 ],
 "metadata": {
  "kernelspec": {
   "display_name": "Python 3 (ipykernel)",
   "language": "python",
   "name": "python3"
  },
  "language_info": {
   "codemirror_mode": {
    "name": "ipython",
    "version": 3
   },
   "file_extension": ".py",
   "mimetype": "text/x-python",
   "name": "python",
   "nbconvert_exporter": "python",
   "pygments_lexer": "ipython3",
   "version": "3.9.6"
  }
 },
 "nbformat": 4,
 "nbformat_minor": 5
}
